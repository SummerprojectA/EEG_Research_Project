{
  "nbformat": 4,
  "nbformat_minor": 0,
  "metadata": {
    "colab": {
      "provenance": [],
      "authorship_tag": "ABX9TyNLRMvVSWsefdula7g+cxEh",
      "include_colab_link": true
    },
    "kernelspec": {
      "name": "python3",
      "display_name": "Python 3"
    },
    "language_info": {
      "name": "python"
    }
  },
  "cells": [
    {
      "cell_type": "markdown",
      "metadata": {
        "id": "view-in-github",
        "colab_type": "text"
      },
      "source": [
        "<a href=\"https://colab.research.google.com/github/Adityachauhan2344/Adityachauhan2344/blob/main/ROUGE-1_scores.ipynb\" target=\"_parent\"><img src=\"https://colab.research.google.com/assets/colab-badge.svg\" alt=\"Open In Colab\"/></a>"
      ]
    },
    {
      "cell_type": "code",
      "source": [
        "from google.colab import drive\n",
        "drive.mount('/content/drive')"
      ],
      "metadata": {
        "colab": {
          "base_uri": "https://localhost:8080/"
        },
        "id": "5elvJV1-VTMs",
        "outputId": "4a7fdd5a-0291-4782-af68-282969dd1e10"
      },
      "execution_count": 26,
      "outputs": [
        {
          "output_type": "stream",
          "name": "stdout",
          "text": [
            "Mounted at /content/drive\n"
          ]
        }
      ]
    },
    {
      "cell_type": "code",
      "source": [
        "!pip install sacrebleu\n"
      ],
      "metadata": {
        "colab": {
          "base_uri": "https://localhost:8080/"
        },
        "id": "BC6AZVdqWoQO",
        "outputId": "bfce04d4-8f4e-4935-80bd-05a8b9d1ffbc"
      },
      "execution_count": 4,
      "outputs": [
        {
          "output_type": "stream",
          "name": "stdout",
          "text": [
            "Collecting sacrebleu\n",
            "  Downloading sacrebleu-2.3.1-py3-none-any.whl (118 kB)\n",
            "\u001b[?25l     \u001b[90m━━━━━━━━━━━━━━━━━━━━━━━━━━━━━━━━━━━━━━━━\u001b[0m \u001b[32m0.0/118.9 kB\u001b[0m \u001b[31m?\u001b[0m eta \u001b[36m-:--:--\u001b[0m\r\u001b[2K     \u001b[91m━━━━━━━━━━━━━━━━━━━━━━━━━━━\u001b[0m\u001b[91m╸\u001b[0m\u001b[90m━━━━━━━━━━━━\u001b[0m \u001b[32m81.9/118.9 kB\u001b[0m \u001b[31m2.5 MB/s\u001b[0m eta \u001b[36m0:00:01\u001b[0m\r\u001b[2K     \u001b[90m━━━━━━━━━━━━━━━━━━━━━━━━━━━━━━━━━━━━━━━\u001b[0m \u001b[32m118.9/118.9 kB\u001b[0m \u001b[31m2.6 MB/s\u001b[0m eta \u001b[36m0:00:00\u001b[0m\n",
            "\u001b[?25hCollecting portalocker (from sacrebleu)\n",
            "  Downloading portalocker-2.7.0-py2.py3-none-any.whl (15 kB)\n",
            "Requirement already satisfied: regex in /usr/local/lib/python3.10/dist-packages (from sacrebleu) (2022.10.31)\n",
            "Requirement already satisfied: tabulate>=0.8.9 in /usr/local/lib/python3.10/dist-packages (from sacrebleu) (0.9.0)\n",
            "Requirement already satisfied: numpy>=1.17 in /usr/local/lib/python3.10/dist-packages (from sacrebleu) (1.22.4)\n",
            "Collecting colorama (from sacrebleu)\n",
            "  Downloading colorama-0.4.6-py2.py3-none-any.whl (25 kB)\n",
            "Requirement already satisfied: lxml in /usr/local/lib/python3.10/dist-packages (from sacrebleu) (4.9.3)\n",
            "Installing collected packages: portalocker, colorama, sacrebleu\n",
            "Successfully installed colorama-0.4.6 portalocker-2.7.0 sacrebleu-2.3.1\n"
          ]
        }
      ]
    },
    {
      "cell_type": "code",
      "source": [
        "from nltk.translate.bleu_score import sentence_bleu\n",
        "from nltk.translate.bleu_score import SmoothingFunction\n",
        "\n",
        "# Example sentences\n",
        "target_sentences = [\n",
        "    \"Everything its title implies, a standard-issue crime drama spat out from the Tinseltown assembly line.\",\n",
        "    \"This odd, poetic road movie, spiked by jolts of pop music, pretty much takes place in Morton's ever-watchful gaze -- and it's a tribute to the actress, and to her inventive director, that the journey is such a mesmerizing one.\",\n",
        "    \"Co-writer/director Jonathan Parker's attempts to fashion a Brazil-like, hyper-real satire fall dreadfully short.\",\n",
        "    \"An amateurish, quasi-improvised acting exercise shot on ugly digital video.\",\n",
        "    \"The Kid Stays in the Picture'' is a great story, terrifically told by the man who wrote it but this Cliff Notes edition is a cheat.\",\n",
        "    \"A gratingly unfunny groaner littered with zero-dimensional, unlikable characters and hackneyed, threadbare comic setups.\",\n",
        "    \"It isn't that Stealing Harvard is a horrible movie -- if only it were that grand a failure!\",\n",
        "    \"Griffin & Co. manage to be spectacularly outrageous.\",\n",
        "    \"A profoundly stupid affair, populating its hackneyed and meanspirited storyline with cardboard characters and performers who value cash above credibility.\",\n",
        "    \"Warm Water Under a Red Bridge is a quirky and poignant Japanese film that explores the fascinating connections between women, water, nature, and sexuality.\"\n",
        "]\n",
        "\n",
        "predicted_sentences = [\n",
        "    \"is been implies, it \\\" forissue, novel.. of the 1950seltowns..\",\n",
        "    \"is, but, trip was \\\" with theingoting of laughter culture, is much sums place in the's hometown-presentful,. and his's a very to the film. who her the husband,, John is film is so a beautifulizing experience.\",\n",
        "    \"henauthor ofdirector of S is book to make a film-themed film but-realistic of flatfully short of\",\n",
        "    \"nie historian, but-religiousprovised, career, by a, film.\",\n",
        "    \"I filmnays in the House'' is a short film about butally written by the author himself wrote it. also is's version is much little.\",\n",
        "    \"fewis, dullunny andpe., the the humorgravity, cartoonikable,. aneyed, unbare, books.\",\n",
        "    \"was't a the. is was a bad place, it it it were a.. movie\",\n",
        "    \"ace's Co. were the get thely successful,\",\n",
        "    \"few moving and. but culture the ownneyed, un-ited atmosphere with a cut and a. are their over all.\",\n",
        "    \"rightly, the Tree Sun, a film and beautiful film film. is the history relationship between the and science, and, and the.\"\n",
        "\n",
        "]\n",
        "\n",
        "# Calculate ROUGE-1, ROUGE-2, and ROUGE-L scores for each pair of sentences\n",
        "rouge1_scores = [sentence_bleu([target], predicted, weights=(1, 0, 0, 0), smoothing_function=SmoothingFunction().method0) for target, predicted in zip(target_sentences, predicted_sentences)]\n",
        "rouge2_scores = [sentence_bleu([target], predicted, weights=(0.5, 0.5, 0, 0), smoothing_function=SmoothingFunction().method0) for target, predicted in zip(target_sentences, predicted_sentences)]\n",
        "rougeL_scores = [sentence_bleu([target], predicted, weights=(0, 0, 1, 0), smoothing_function=SmoothingFunction().method0) for target, predicted in zip(target_sentences, predicted_sentences)]\n",
        "\n",
        "# Print the ROUGE scores\n",
        "for i in range(len(target_sentences)):\n",
        "    print(f\"Target Sentence: {target_sentences[i]}\")\n",
        "    print(f\"Predicted Sentence: {predicted_sentences[i]}\")\n",
        "    print(f\"ROUGE-1 Score: {rouge1_scores[i]}\")\n",
        "    print(f\"ROUGE-2 Score: {rouge2_scores[i]}\")\n",
        "    print(f\"ROUGE-L Score: {rougeL_scores[i]}\")\n",
        "    print()\n"
      ],
      "metadata": {
        "colab": {
          "base_uri": "https://localhost:8080/"
        },
        "id": "pkWHC0xvWoYh",
        "outputId": "2083aae5-4242-45c3-d121-33e9c15d9af6"
      },
      "execution_count": 12,
      "outputs": [
        {
          "output_type": "stream",
          "name": "stdout",
          "text": [
            "Target Sentence: Everything its title implies, a standard-issue crime drama spat out from the Tinseltown assembly line.\n",
            "Predicted Sentence: is been implies, it \" forissue, novel.. of the 1950seltowns..\n",
            "ROUGE-1 Score: 0.4185403381316819\n",
            "ROUGE-2 Score: 0.34284560056344565\n",
            "ROUGE-L Score: 0.17309125848157694\n",
            "\n",
            "Target Sentence: This odd, poetic road movie, spiked by jolts of pop music, pretty much takes place in Morton's ever-watchful gaze -- and it's a tribute to the actress, and to her inventive director, that the journey is such a mesmerizing one.\n",
            "Predicted Sentence: is, but, trip was \" with theingoting of laughter culture, is much sums place in the's hometown-presentful,. and his's a very to the film. who her the husband,, John is film is so a beautifulizing experience.\n",
            "ROUGE-1 Score: 0.771267310751788\n",
            "ROUGE-2 Score: 0.6157422471149508\n",
            "ROUGE-L Score: 0.2759148339007233\n",
            "\n",
            "Target Sentence: Co-writer/director Jonathan Parker's attempts to fashion a Brazil-like, hyper-real satire fall dreadfully short.\n",
            "Predicted Sentence: henauthor ofdirector of S is book to make a film-themed film but-realistic of flatfully short of\n",
            "ROUGE-1 Score: 0.6613138475707923\n",
            "ROUGE-2 Score: 0.4793835226407167\n",
            "ROUGE-L Score: 0.1981127441233352\n",
            "\n",
            "Target Sentence: An amateurish, quasi-improvised acting exercise shot on ugly digital video.\n",
            "Predicted Sentence: nie historian, but-religiousprovised, career, by a, film.\n",
            "ROUGE-1 Score: 0.6268672749778336\n",
            "ROUGE-2 Score: 0.361394021781543\n",
            "ROUGE-L Score: 0.09280892123048444\n",
            "\n",
            "Target Sentence: The Kid Stays in the Picture'' is a great story, terrifically told by the man who wrote it but this Cliff Notes edition is a cheat.\n",
            "Predicted Sentence: I filmnays in the House'' is a short film about butally written by the author himself wrote it. also is's version is much little.\n",
            "ROUGE-1 Score: 0.8166967354517545\n",
            "ROUGE-2 Score: 0.6631439641606888\n",
            "ROUGE-L Score: 0.3178680575321458\n",
            "\n",
            "Target Sentence: A gratingly unfunny groaner littered with zero-dimensional, unlikable characters and hackneyed, threadbare comic setups.\n",
            "Predicted Sentence: fewis, dullunny andpe., the the humorgravity, cartoonikable,. aneyed, unbare, books.\n",
            "ROUGE-1 Score: 0.5816420156527282\n",
            "ROUGE-2 Score: 0.4219471321505168\n",
            "ROUGE-L Score: 0.174776332508332\n",
            "\n",
            "Target Sentence: It isn't that Stealing Harvard is a horrible movie -- if only it were that grand a failure!\n",
            "Predicted Sentence: was't a the. is was a bad place, it it it were a.. movie\n",
            "ROUGE-1 Score: 0.44923727036415256\n",
            "ROUGE-2 Score: 0.35607256944958326\n",
            "ROUGE-L Score: 0.18833272484927438\n",
            "\n",
            "Target Sentence: Griffin & Co. manage to be spectacularly outrageous.\n",
            "Predicted Sentence: ace's Co. were the get thely successful,\n",
            "ROUGE-1 Score: 0.5370932099942455\n",
            "ROUGE-2 Score: 0.3641833037396457\n",
            "ROUGE-L Score: 0.09747608166864706\n",
            "\n",
            "Target Sentence: A profoundly stupid affair, populating its hackneyed and meanspirited storyline with cardboard characters and performers who value cash above credibility.\n",
            "Predicted Sentence: few moving and. but culture the ownneyed, un-ited atmosphere with a cut and a. are their over all.\n",
            "ROUGE-1 Score: 0.5359059729257308\n",
            "ROUGE-2 Score: 0.37469728891619475\n",
            "ROUGE-L Score: 0.12941456962677816\n",
            "\n",
            "Target Sentence: Warm Water Under a Red Bridge is a quirky and poignant Japanese film that explores the fascinating connections between women, water, nature, and sexuality.\n",
            "Predicted Sentence: rightly, the Tree Sun, a film and beautiful film film. is the history relationship between the and science, and, and the.\n",
            "ROUGE-1 Score: 0.6551952927108028\n",
            "ROUGE-2 Score: 0.5055615374496989\n",
            "ROUGE-L Score: 0.2157241644027405\n",
            "\n"
          ]
        }
      ]
    },
    {
      "cell_type": "code",
      "source": [
        "average_rougeL_score = sum(rougeL_scores) / len(rougeL_scores)\n",
        "\n",
        "\n",
        "average_rougeL_percentage = average_rougeL_score * 100\n",
        "\n",
        "\n",
        "print(f\"Average ROUGE-L score: {average_rougeL_percentage:.2f}%\")"
      ],
      "metadata": {
        "colab": {
          "base_uri": "https://localhost:8080/"
        },
        "id": "eSgyaAQrWoaw",
        "outputId": "f6f9b311-a677-42fe-8006-880ebd8804bc"
      },
      "execution_count": 14,
      "outputs": [
        {
          "output_type": "stream",
          "name": "stdout",
          "text": [
            "Average ROUGE-L score: 18.64%\n"
          ]
        }
      ]
    },
    {
      "cell_type": "code",
      "source": [
        "!pip install rouge\n",
        "from rouge import Rouge\n",
        "\n",
        "def rouge_1(reference, predicted):\n",
        "    rouge = Rouge()\n",
        "    scores = rouge.get_scores(predicted, reference, avg=True)\n",
        "    return scores['rouge-1']['f']\n",
        "\n",
        "def rouge_precision_recall_f1(reference, predicted):\n",
        "    rouge = Rouge()\n",
        "    scores = rouge.get_scores(predicted, reference, avg=True)\n",
        "    return scores['rouge-1']['p'], scores['rouge-1']['r'], scores['rouge-1']['f']\n",
        "\n",
        "\n",
        "reference_summaries = [\n",
        "    \"Everything its title implies, a standard-issue crime drama spat out from the Tinseltown assembly line.\",\n",
        "    \"This odd, poetic road movie, spiked by jolts of pop music, pretty much takes place in Morton's ever-watchful gaze -- and it's a tribute to the actress, and to her inventive director, that the journey is such a mesmerizing one.\",\n",
        "    \"Co-writer/director Jonathan Parker's attempts to fashion a Brazil-like, hyper-real satire fall dreadfully short.\",\n",
        "    \"An amateurish, quasi-improvised acting exercise shot on ugly digital video.\",\n",
        "    \"The Kid Stays in the Picture'' is a great story, terrifically told by the man who wrote it but this Cliff Notes edition is a cheat.\",\n",
        "    \"A gratingly unfunny groaner littered with zero-dimensional, unlikable characters and hackneyed, threadbare comic setups.\",\n",
        "    \"It isn't that Stealing Harvard is a horrible movie -- if only it were that grand a failure!\",\n",
        "    \"Griffin & Co. manage to be spectacularly outrageous.\",\n",
        "    \"A profoundly stupid affair, populating its hackneyed and meanspirited storyline with cardboard characters and performers who value cash above credibility.\",\n",
        "    \"Warm Water Under a Red Bridge is a quirky and poignant Japanese film that explores the fascinating connections between women, water, nature, and sexuality.\"\n",
        "]\n",
        "\n",
        "\n",
        "predicted_summaries = [\n",
        "    \"is been implies, it \\\" forissue, novel.. of the 1950seltowns..\",\n",
        "    \"is, but, trip was \\\" with theingoting of laughter culture, is much sums place in the's hometown-presentful,. and his's a very to the film. who her the husband,, John is film is so a beautifulizing experience.\",\n",
        "    \"henauthor ofdirector of S is book to make a film-themed film but-realistic of flatfully short of\",\n",
        "    \"nie historian, but-religiousprovised, career, by a, film.\",\n",
        "    \"I filmnays in the House'' is a short film about butally written by the author himself wrote it. also is's version is much little.\",\n",
        "    \"fewis, dullunny andpe., the the humorgravity, cartoonikable,. aneyed, unbare, books.\",\n",
        "    \"was't a the. is was a bad place, it it it were a.. movie\",\n",
        "    \"ace's Co. were the get thely successful,\",\n",
        "    \"few moving and. but culture the ownneyed, un-ited atmosphere with a cut and a. are their over all.\",\n",
        "    \"rightly, the Tree Sun, a film and beautiful film film. is the history relationship between the and science, and, and the.\"\n",
        "\n",
        "]\n",
        "\n",
        "precision_scores = []\n",
        "recall_scores = []\n",
        "f1_scores = []\n",
        "\n",
        "\n",
        "for reference, predicted in zip(reference_summaries, predicted_summaries):\n",
        "    rouge_1_score = rouge_1(reference, predicted)\n",
        "    print(\"ROUGE-1 Score:\", rouge_1_score)\n",
        "\n",
        "    rouge_1_precision, rouge_1_recall, rouge_1_f1 = rouge_precision_recall_f1(reference, predicted)\n",
        "    print(\"ROUGE-1 Precision:\", rouge_1_precision)\n",
        "    print(\"ROUGE-1 Recall:\", rouge_1_recall)\n",
        "    print(\"ROUGE-1 F1 Score:\", rouge_1_f1)\n",
        "    print(\"-----------------------\")\n"
      ],
      "metadata": {
        "colab": {
          "base_uri": "https://localhost:8080/"
        },
        "id": "Y_DrgKzexgjz",
        "outputId": "6b249c0e-2764-4fa3-d958-35da01f5a323"
      },
      "execution_count": 23,
      "outputs": [
        {
          "output_type": "stream",
          "name": "stdout",
          "text": [
            "Requirement already satisfied: rouge in /usr/local/lib/python3.10/dist-packages (1.0.1)\n",
            "Requirement already satisfied: six in /usr/local/lib/python3.10/dist-packages (from rouge) (1.16.0)\n",
            "ROUGE-1 Score: 0.15999999520000013\n",
            "ROUGE-1 Precision: 0.2\n",
            "ROUGE-1 Recall: 0.13333333333333333\n",
            "ROUGE-1 F1 Score: 0.15999999520000013\n",
            "-----------------------\n",
            "ROUGE-1 Score: 0.29850745771441306\n",
            "ROUGE-1 Precision: 0.3225806451612903\n",
            "ROUGE-1 Recall: 0.2777777777777778\n",
            "ROUGE-1 F1 Score: 0.29850745771441306\n",
            "-----------------------\n",
            "ROUGE-1 Score: 0.22222221722908106\n",
            "ROUGE-1 Precision: 0.21428571428571427\n",
            "ROUGE-1 Recall: 0.23076923076923078\n",
            "ROUGE-1 F1 Score: 0.22222221722908106\n",
            "-----------------------\n",
            "ROUGE-1 Score: 0.0\n",
            "ROUGE-1 Precision: 0.0\n",
            "ROUGE-1 Recall: 0.0\n",
            "ROUGE-1 F1 Score: 0.0\n",
            "-----------------------\n",
            "ROUGE-1 Score: 0.31111110611358034\n",
            "ROUGE-1 Precision: 0.3181818181818182\n",
            "ROUGE-1 Recall: 0.30434782608695654\n",
            "ROUGE-1 F1 Score: 0.31111110611358034\n",
            "-----------------------\n",
            "ROUGE-1 Score: 0.0\n",
            "ROUGE-1 Precision: 0.0\n",
            "ROUGE-1 Recall: 0.0\n",
            "ROUGE-1 F1 Score: 0.0\n",
            "-----------------------\n",
            "ROUGE-1 Score: 0.38461537988165684\n",
            "ROUGE-1 Precision: 0.5\n",
            "ROUGE-1 Recall: 0.3125\n",
            "ROUGE-1 F1 Score: 0.38461537988165684\n",
            "-----------------------\n",
            "ROUGE-1 Score: 0.13333332835555575\n",
            "ROUGE-1 Precision: 0.14285714285714285\n",
            "ROUGE-1 Recall: 0.125\n",
            "ROUGE-1 F1 Score: 0.13333332835555575\n",
            "-----------------------\n",
            "ROUGE-1 Score: 0.11428570932244919\n",
            "ROUGE-1 Precision: 0.125\n",
            "ROUGE-1 Recall: 0.10526315789473684\n",
            "ROUGE-1 F1 Score: 0.11428570932244919\n",
            "-----------------------\n",
            "ROUGE-1 Score: 0.3333333285802469\n",
            "ROUGE-1 Precision: 0.42857142857142855\n",
            "ROUGE-1 Recall: 0.2727272727272727\n",
            "ROUGE-1 F1 Score: 0.3333333285802469\n",
            "-----------------------\n"
          ]
        }
      ]
    },
    {
      "cell_type": "code",
      "source": [
        "precision_scores.append(rouge_1_precision * 100)\n",
        "recall_scores.append(rouge_1_recall * 100)\n",
        "f1_scores.append(rouge_1_f1 * 100)"
      ],
      "metadata": {
        "id": "YxcxRcxx0RiW"
      },
      "execution_count": 27,
      "outputs": []
    },
    {
      "cell_type": "code",
      "source": [
        "average_precision = sum(precision_scores) / len(precision_scores)\n",
        "average_recall = sum(recall_scores) / len(recall_scores)\n",
        "average_f1 = sum(f1_scores) / len(f1_scores)\n",
        "\n",
        "print(\"Average ROUGE-1 Precision:\", average_precision)\n",
        "print(\"Average ROUGE-1 Recall:\", average_recall)\n",
        "print(\"Average ROUGE-1 F1 Score:\", average_f1)\n"
      ],
      "metadata": {
        "colab": {
          "base_uri": "https://localhost:8080/"
        },
        "id": "XbJQGGUcxg4-",
        "outputId": "0e11016f-036b-4d3b-a4d0-fffa3e2be3ed"
      },
      "execution_count": 28,
      "outputs": [
        {
          "output_type": "stream",
          "name": "stdout",
          "text": [
            "Average ROUGE-1 Precision: 21.642857142857142\n",
            "Average ROUGE-1 Recall: 13.772727272727272\n",
            "Average ROUGE-1 F1 Score: 16.833333093302468\n"
          ]
        }
      ]
    }
  ]
}