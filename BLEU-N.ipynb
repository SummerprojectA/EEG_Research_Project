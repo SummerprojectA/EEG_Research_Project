{
  "nbformat": 4,
  "nbformat_minor": 0,
  "metadata": {
    "colab": {
      "provenance": [],
      "authorship_tag": "ABX9TyMnyuvcqC72hPMVQ61zHFss",
      "include_colab_link": true
    },
    "kernelspec": {
      "name": "python3",
      "display_name": "Python 3"
    },
    "language_info": {
      "name": "python"
    }
  },
  "cells": [
    {
      "cell_type": "markdown",
      "metadata": {
        "id": "view-in-github",
        "colab_type": "text"
      },
      "source": [
        "<a href=\"https://colab.research.google.com/github/Adityachauhan2344/Adityachauhan2344/blob/main/BLEU-N.ipynb\" target=\"_parent\"><img src=\"https://colab.research.google.com/assets/colab-badge.svg\" alt=\"Open In Colab\"/></a>"
      ]
    },
    {
      "cell_type": "markdown",
      "source": [
        "BLEU-N (%)\n"
      ],
      "metadata": {
        "id": "w2UHZflCb4oW"
      }
    },
    {
      "cell_type": "code",
      "source": [
        "from nltk.translate.bleu_score import sentence_bleu, SmoothingFunction\n",
        "\n",
        "def calculate_bleu_n_with_smoothing(reference_sentences, predicted_sentences, n):\n",
        "    # Tokenize the reference and predicted sentences\n",
        "    reference_tokens = [sentence.split() for sentence in reference_sentences]\n",
        "    predicted_tokens = [sentence.split() for sentence in predicted_sentences]\n",
        "\n",
        "    # Create a smoothing function\n",
        "    smoothing = SmoothingFunction().method1\n",
        "\n",
        "    # Calculate BLEU-n scores with smoothing for each sentence\n",
        "    bleu_n_scores = [sentence_bleu([ref_tokens], pred_tokens, weights=(1/n, ) * n, smoothing_function=smoothing)\n",
        "                     for ref_tokens, pred_tokens in zip(reference_tokens, predicted_tokens)]\n",
        "\n",
        "    # Calculate the average BLEU-n score across all sentences\n",
        "    average_bleu_n_score = sum(bleu_n_scores) / len(bleu_n_scores)\n",
        "\n",
        "    return average_bleu_n_score\n",
        "\n",
        "# Example usage with multiple reference and predicted sentences\n",
        "reference_summaries = [\n",
        "    \"Everything its title implies, a standard-issue crime drama spat out from the Tinseltown assembly line.\",\n",
        "    \"This odd, poetic road movie, spiked by jolts of pop music, pretty much takes place in Morton's ever-watchful gaze -- and it's a tribute to the actress, and to her inventive director, that the journey is such a mesmerizing one.\",\n",
        "    \"Co-writer/director Jonathan Parker's attempts to fashion a Brazil-like, hyper-real satire fall dreadfully short.\",\n",
        "    \"An amateurish, quasi-improvised acting exercise shot on ugly digital video.\",\n",
        "    \"The Kid Stays in the Picture'' is a great story, terrifically told by the man who wrote it but this Cliff Notes edition is a cheat.\",\n",
        "    \"A gratingly unfunny groaner littered with zero-dimensional, unlikable characters and hackneyed, threadbare comic setups.\",\n",
        "    \"It isn't that Stealing Harvard is a horrible movie -- if only it were that grand a failure!\",\n",
        "    \"Griffin & Co. manage to be spectacularly outrageous.\",\n",
        "    \"A profoundly stupid affair, populating its hackneyed and meanspirited storyline with cardboard characters and performers who value cash above credibility.\",\n",
        "    \"Warm Water Under a Red Bridge is a quirky and poignant Japanese film that explores the fascinating connections between women, water, nature, and sexuality.\"\n",
        "]\n",
        "\n",
        "predicted_summaries = [\n",
        "    \"is been implies, it \\\" forissue, novel.. of the 1950seltowns..\",\n",
        "    \"is, but, trip was \\\" with theingoting of laughter culture, is much sums place in the's hometown-presentful,. and his's a very to the film. who her the husband,, John is film is so a beautifulizing experience.\",\n",
        "    \"henauthor ofdirector of S is book to make a film-themed film but-realistic of flatfully short of\",\n",
        "    \"nie historian, but-religiousprovised, career, by a, film.\",\n",
        "    \"I filmnays in the House'' is a short film about butally written by the author himself wrote it. also is's version is much little.\",\n",
        "    \"fewis, dullunny andpe., the the humorgravity, cartoonikable,. aneyed, unbare, books.\",\n",
        "    \"was't a the. is was a bad place, it it it were a.. movie\",\n",
        "    \"ace's Co. were the get thely successful,\",\n",
        "    \"few moving and. but culture the ownneyed, un-ited atmosphere with a cut and a. are their over all.\",\n",
        "    \"rightly, the Tree Sun, a film and beautiful film film. is the history relationship between the and science, and, and the.\"\n",
        "\n",
        "]\n",
        "\n",
        "\n",
        "# Calculate average BLEU-1 score with smoothing\n",
        "average_bleu_1_score = calculate_bleu_n_with_smoothing(reference_summaries, predicted_summaries, 1)\n",
        "\n",
        "# Calculate average BLEU-2 score with smoothing\n",
        "average_bleu_2_score = calculate_bleu_n_with_smoothing(reference_summaries, predicted_summaries, 2)\n",
        "\n",
        "# Calculate average BLEU-3 score with smoothing\n",
        "average_bleu_3_score = calculate_bleu_n_with_smoothing(reference_summaries, predicted_summaries, 3)\n",
        "\n",
        "# Calculate average BLEU-4 score with smoothing\n",
        "average_bleu_4_score = calculate_bleu_n_with_smoothing(reference_summaries, predicted_summaries, 4)\n",
        "\n",
        "print(\"Average BLEU-1 Score:\", average_bleu_1_score*100)\n",
        "print(\"Average BLEU-2 Score:\", average_bleu_2_score*100)\n",
        "print(\"Average BLEU-3 Score:\", average_bleu_3_score*100)\n",
        "print(\"Average BLEU-4 Score:\", average_bleu_4_score*100)\n",
        "\n"
      ],
      "metadata": {
        "colab": {
          "base_uri": "https://localhost:8080/"
        },
        "id": "HAGteRbXai6g",
        "outputId": "b085ecc6-b873-44bf-aaee-b54203c63926"
      },
      "execution_count": 3,
      "outputs": [
        {
          "output_type": "stream",
          "name": "stdout",
          "text": [
            "Average BLEU-1 Score: 16.855546634275473\n",
            "Average BLEU-2 Score: 6.098126146632051\n",
            "Average BLEU-3 Score: 2.36778458418402\n",
            "Average BLEU-4 Score: 1.5955454948124286\n"
          ]
        }
      ]
    }
  ]
}